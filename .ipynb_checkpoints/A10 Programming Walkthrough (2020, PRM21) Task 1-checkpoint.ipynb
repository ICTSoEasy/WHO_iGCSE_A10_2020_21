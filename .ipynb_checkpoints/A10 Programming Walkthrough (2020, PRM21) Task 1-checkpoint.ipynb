{
 "cells": [
  {
   "cell_type": "markdown",
   "metadata": {},
   "source": [
    "# Walkthrough for iGCSE Computer Science\n",
    "## Assignment 10 - Programming Task - 2020 PRM21"
   ]
  },
  {
   "cell_type": "markdown",
   "metadata": {},
   "source": [
    "# Task 1\n",
    "\n",
    "We are a little limited with how we tackle this task; The ideal solution would be to design our own data structures to reprsent the items. However, this is not on the specification. The next best thing would be to create a dictionary - like a list but with words as the indexes. Guess what - not on the spec! So what we are going to have to do is create a whole bunch of single dimensional lists and use the positioning in each to know what we are looking at."
   ]
  },
  {
   "cell_type": "code",
   "execution_count": null,
   "metadata": {},
   "outputs": [],
   "source": [
    "#Item Codes\n",
    "itemCodes = ['BPCM','BPSH','RPSS','RPLL','YPLS','YPLL','RTMS','RTLM',\n",
    "             'YTLM','YTLL','SMNO','SMPG','CSST','CSLX','CGCR','CGHM']\n",
    "\n",
    "#Descriptions\n",
    "descriptions = ['Compact','Clam Shell','RoboPhone – 5-inch screen and 64GB memory',\n",
    "                'RoboPhone – 6-inch screen and 256GB memory','Y-Phone Standard – 6-inch screen and 64GB memory',\n",
    "                'Y-Phone Deluxe – 6-inch screen and 256GB memory','RoboTab – 8-inch screen and 64GB memory',\n",
    "                'RoboTab – 10-inch screen and 128GB memory','Y-Tab Standard – 10-inch screen and 128GB memory',\n",
    "                'Y-Tab Deluxe – 10-inch screen and 256GB memory','SIM Free (no SIM card purchased)',\n",
    "                'SIM Free (no SIM card purchased)','Standard','Luxury','Car','Home']\n",
    "\n",
    "#Prices\n",
    "prices = [29.99,49.99,199.99,499.99,549.99,649.99,149.99,299.99,499.99,599.99,0.00,9.99,0.00,50.00,19.99,15.99]"
   ]
  },
  {
   "cell_type": "markdown",
   "metadata": {},
   "source": [
    "Now we can test this. Let's say we want to print the details of the home charger (as it's the last thing, if that's correct everything is lined up right)."
   ]
  },
  {
   "cell_type": "code",
   "execution_count": null,
   "metadata": {},
   "outputs": [],
   "source": [
    "#The ehome charger is element 15\n",
    "print(itemCodes[15])\n",
    "print(descriptions[15])\n",
    "print(prices[15])"
   ]
  },
  {
   "cell_type": "markdown",
   "metadata": {},
   "source": [
    "Fab, got that one correct!\n",
    "Now we're going to want to be able to go through those lists to check things, but we have multiple things stored in there which is a bit confusing. I think it would be a good idea to define the boundaries of each item so we can use these in our for loops. If we define something that won't change we call it a constant, and in Python it's customary to use all caps for the names."
   ]
  },
  {
   "cell_type": "code",
   "execution_count": null,
   "metadata": {},
   "outputs": [],
   "source": [
    "DEVICESTART = 0\n",
    "DEVICEEND = 9\n",
    "SIMSTART = 10\n",
    "SIMEND = 11\n",
    "CASESTART = 12\n",
    "CASEEND = 13\n",
    "CHARGERSTART = 14\n",
    "CHARGEREND = 15"
   ]
  },
  {
   "cell_type": "markdown",
   "metadata": {},
   "source": [
    "We will have a list of items the user wants to buy. We'll just create an empty list called 'order' for now."
   ]
  },
  {
   "cell_type": "code",
   "execution_count": null,
   "metadata": {},
   "outputs": [],
   "source": [
    "order = []"
   ]
  },
  {
   "cell_type": "markdown",
   "metadata": {},
   "source": [
    "The next thing to do is allow the user to choose a specific device (phone or tablet). It would be a good idea to loop through outputting them all and then we can ask them to enter an item code. As long as it's in there we can carry on, otherwise we ask them to re-enter."
   ]
  },
  {
   "cell_type": "code",
   "execution_count": null,
   "metadata": {},
   "outputs": [],
   "source": [
    "while True: #A while True loop is Python's way of doing REPEAT..UNTIL\n",
    "    for i in range(DEVICESTART,DEVICEEND+1): #Loop through each decvice (remmber python counts UP TO the end)\n",
    "        print(itemCodes[i],descriptions[i],'$'+str(prices[i])) #Prices has to be converted to string to concatenate\n",
    "    device = input('Enter device code: ').upper() #Get the device code (convert to uppercase)\n",
    "    \n",
    "    #Now let's loop through the device item codes again to see if it correct\n",
    "    found = False #we've not found it yet\n",
    "    for i in range(DEVICESTART,DEVICEEND+1):#Go through the devices\n",
    "        if device == itemCodes[i]: #Check the item code \n",
    "            found = True #Found it!@\n",
    "    \n",
    "    #Jump out if found, otherwise go again\n",
    "    if found:\n",
    "        order.append(device) #Add to our order list\n",
    "        break #Leave the loop\n",
    "    else: #Not found\n",
    "        print() #blank line\n",
    "        print('Sorry, that is an invalid code.') #Error message\n",
    "        print() #blank line\n",
    "    "
   ]
  },
  {
   "cell_type": "markdown",
   "metadata": {},
   "source": [
    "We need to do the same thing for SIM Free vs Pay As You Go and for the case choice so I will just go ahead and copy that, then adjust."
   ]
  },
  {
   "cell_type": "code",
   "execution_count": null,
   "metadata": {},
   "outputs": [],
   "source": [
    "#SIM Choice\n",
    "while True: #A while True loop is Python's way of doing REPEAT..UNTIL\n",
    "    for i in range(SIMSTART,SIMEND+1): #Loop through each SIM choice\n",
    "        print(itemCodes[i],descriptions[i],'$'+str(prices[i])) #Prices has to be converted to string to concatenate\n",
    "    sim = input('Enter SIM code: ').upper() #Get the device code (convert to uppercase)\n",
    "    \n",
    "    #Now let's loop through the sim item codes again to see if it correct\n",
    "    found = False #we've not found it yet\n",
    "    for i in range(SIMSTART,SIMEND+1):#Go through the sims\n",
    "        if sim == itemCodes[i]: #Check the item code \n",
    "            found = True #Found it!@\n",
    "    \n",
    "    #Jump out if found, otherwise go again\n",
    "    if found:\n",
    "        order.append(sim) #Add to our order list\n",
    "        break #Leave the loop\n",
    "    else: #Not found\n",
    "        print() #blank line\n",
    "        print('Sorry, that is an invalid code.') #Error message\n",
    "        print() #blank line\n",
    "\n",
    "#Case Choicee\n",
    "while True: #A while True loop is Python's way of doing REPEAT..UNTIL\n",
    "    for i in range(CASESTART,CASEEND+1): #Loop through each decvice (remmber python counts UP TO the end)\n",
    "        print(itemCodes[i],descriptions[i],'$'+str(prices[i])) #Prices has to be converted to string to concatenate\n",
    "    case = input('Enter case code: ').upper() #Get the device code (convert to uppercase)\n",
    "    \n",
    "    #Now let's loop through the case item codes again to see if it correct\n",
    "    found = False #we've not found it yet\n",
    "    for i in range(CASESTART,CASEEND+1):#Go through the cases\n",
    "        if case == itemCodes[i]: #Check the item code \n",
    "            found = True #Found it!@\n",
    "    \n",
    "    #Jump out if found, otherwise go again\n",
    "    if found:\n",
    "        order.append(case) #Add to our order list\n",
    "        break #Leave the loop\n",
    "    else: #Not found\n",
    "        print() #blank line\n",
    "        print('Sorry, that is an invalid code.') #Error message\n",
    "        print() #blank line"
   ]
  },
  {
   "cell_type": "markdown",
   "metadata": {},
   "source": [
    "The charger is a little harder as they may choose to order one, both or none! What we can do instead is during the validation, check our order so they don't keep adding the same thing. We can ask them to just press ENTER when finished. "
   ]
  },
  {
   "cell_type": "code",
   "execution_count": null,
   "metadata": {},
   "outputs": [],
   "source": [
    "while True: #A while True loop is Python's way of doing REPEAT..UNTIL\n",
    "    for i in range(CHARGERSTART,CHARGEREND+1): #Loop through each decvice (remmber python counts UP TO the end)\n",
    "        print(itemCodes[i],descriptions[i],'$'+str(prices[i])) #Prices has to be converted to string to concatenate\n",
    "    charger = input('Enter device code (hit ENTER when finished): ').upper() #Get the device code (convert to uppercase)\n",
    "    if charger == '': #They have hit enter\n",
    "        break #so leave the loop\n",
    "    #Now let's loop through the charger item codes again to see if it correct\n",
    "    found = False #we've not found it yet\n",
    "    for i in range(CHARGERSTART,CHARGEREND+1):#Go through the devices\n",
    "        if charger == itemCodes[i]: #Check the item code \n",
    "            found = True #Found it!@\n",
    "    #Now let's loop through the order to make sure it's not already there\n",
    "    alreadyOrdered = False\n",
    "    for code in order: #No need to use indices as we're checking every item\n",
    "        if code == charger: #Found in the order list\n",
    "            alreadyOrdered = True\n",
    "    \n",
    "    #Jump out if found, otherwise go again\n",
    "    if found and not alreadyOrdered: #It's valid and not ben chosen yet\n",
    "        order.append(charger) #Add to our order list\n",
    "        print() #blank line\n",
    "        print('I have added that to your order. Feel free to add another charger if you wish.')\n",
    "        print() #blank line\n",
    "    elif found and alreadyOrdered: #Valid, but already orderd that one\n",
    "        print() #blank line\n",
    "        print('You have already orderd that one. Feel free to add another charger if you wish.')\n",
    "        print() #blank line\n",
    "    else: #Not found\n",
    "        print() #blank line\n",
    "        print('Sorry, that is an invalid code.') #Error message\n",
    "        print() #blank line"
   ]
  },
  {
   "cell_type": "markdown",
   "metadata": {},
   "source": [
    "Now we need to calculate the total cost of the order. This is a case of going through each item in the order, checking it's position in the itemCodes list, and using that to get the order price. we can sneakily complete the final step here as well!"
   ]
  },
  {
   "cell_type": "code",
   "execution_count": null,
   "metadata": {},
   "outputs": [],
   "source": [
    "cost = 0 #Start the cost out at nothing\n",
    "for item in order: #Get each item code\n",
    "    print(item,end=' ') #Output the item codes followed by a space\n",
    "    for i in range(len(itemCodes)): #Go through the item codes\n",
    "        if item == itemCodes[i]: #Found the item\n",
    "            print(descriptions[i]) #Output the description\n",
    "            cost = cost + prices[i] #Add on the price\n",
    "print('Total cost: ${0:0.2f}'.format(cost)) #Formatted to 2dp"
   ]
  },
  {
   "cell_type": "code",
   "execution_count": null,
   "metadata": {},
   "outputs": [],
   "source": []
  }
 ],
 "metadata": {
  "kernelspec": {
   "display_name": "Python 3",
   "language": "python",
   "name": "python3"
  },
  "language_info": {
   "codemirror_mode": {
    "name": "ipython",
    "version": 3
   },
   "file_extension": ".py",
   "mimetype": "text/x-python",
   "name": "python",
   "nbconvert_exporter": "python",
   "pygments_lexer": "ipython3",
   "version": "3.7.6"
  }
 },
 "nbformat": 4,
 "nbformat_minor": 4
}
