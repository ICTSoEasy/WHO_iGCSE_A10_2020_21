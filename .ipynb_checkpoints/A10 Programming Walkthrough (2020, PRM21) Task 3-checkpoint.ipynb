{
 "cells": [
  {
   "cell_type": "markdown",
   "metadata": {},
   "source": [
    "# Walkthrough for iGCSE Computer Science\n",
    "## Assignment 10 - Programming Task - 2020 PRM21"
   ]
  },
  {
   "cell_type": "markdown",
   "metadata": {},
   "source": [
    "# Task 3\n",
    "\n",
    "Again this is basically the same as Task 2. However, we need to adjust the way we do things a little bit. Instead of calculating the cost at the end we will need to keep a running total every time we add to the orders array, and in th devices loop we can add the discount if the masterOrder already has content in it (as if it has content there must already be a device in it!"
   ]
  },
  {
   "cell_type": "markdown",
   "metadata": {},
   "source": [
    "*This cell is the initial declarations*"
   ]
  },
  {
   "cell_type": "code",
   "execution_count": null,
   "metadata": {
    "code_folding": []
   },
   "outputs": [],
   "source": [
    "#Declare our lists \n",
    "\n",
    "#Item Codes\n",
    "itemCodes = ['BPCM','BPSH','RPSS','RPLL','YPLS','YPLL','RTMS','RTLM',\n",
    "             'YTLM','YTLL','SMNO','SMPG','CSST','CSLX','CGCR','CGHM']\n",
    "\n",
    "#Descriptions\n",
    "descriptions = ['Compact','Clam Shell','RoboPhone – 5-inch screen and 64GB memory',\n",
    "                'RoboPhone – 6-inch screen and 256GB memory','Y-Phone Standard – 6-inch screen and 64GB memory',\n",
    "                'Y-Phone Deluxe – 6-inch screen and 256GB memory','RoboTab – 8-inch screen and 64GB memory',\n",
    "                'RoboTab – 10-inch screen and 128GB memory','Y-Tab Standard – 10-inch screen and 128GB memory',\n",
    "                'Y-Tab Deluxe – 10-inch screen and 256GB memory','SIM Free (no SIM card purchased)',\n",
    "                'SIM Free (no SIM card purchased)','Standard','Luxury','Car','Home']\n",
    "\n",
    "#Prices\n",
    "prices = [29.99,49.99,199.99,499.99,549.99,649.99,149.99,299.99,499.99,599.99,0.00,9.99,0.00,50.00,19.99,15.99]\n",
    "\n",
    "\n",
    "#Declare constants\n",
    "DEVICESTART = 0\n",
    "DEVICEEND = 9\n",
    "SIMSTART = 10\n",
    "SIMEND = 11\n",
    "CASESTART = 12\n",
    "CASEEND = 13\n",
    "CHARGERSTART = 14\n",
    "CHARGEREND = 15"
   ]
  },
  {
   "cell_type": "code",
   "execution_count": null,
   "metadata": {},
   "outputs": [],
   "source": [
    "masterOrder = [] #This will contain ALL items ordered. order will be copied into this at the end of each item\n",
    "                 #that is ordered.\n",
    "    \n",
    "totalPrice = 0"
   ]
  },
  {
   "cell_type": "markdown",
   "metadata": {
    "hide_input": true
   },
   "source": [
    "*This is the start of the content which will be repeated. Note the additional linees in each loop*"
   ]
  },
  {
   "cell_type": "code",
   "execution_count": null,
   "metadata": {
    "code_folding": []
   },
   "outputs": [],
   "source": [
    "while True: \n",
    "    order = []\n",
    "    #Device choice\n",
    "    while True: #A while True loop is Python's way of doing REPEAT..UNTIL\n",
    "        for i in range(DEVICESTART,DEVICEEND+1): #Loop through each decvice (remmber python counts UP TO the end)\n",
    "            print(itemCodes[i],descriptions[i],'$'+str(prices[i])) #Prices has to be converted to string to concatenate\n",
    "        device = input('Enter device code: ').upper() #Get the device code (convert to uppercase)\n",
    "\n",
    "        #Now let's loop through the device item codes again to see if it correct\n",
    "        found = False #we've not found it yet\n",
    "        for i in range(DEVICESTART,DEVICEEND+1):#Go through the devices\n",
    "            if device == itemCodes[i]: #Check the item code \n",
    "                found = True #Found it!@\n",
    "                costToAdd = prices[i] #Remember the price to add on\n",
    "\n",
    "        #Jump out if found, otherwise go again\n",
    "        if found:\n",
    "            if len(masterOrder) == 0: #This is the first device\n",
    "                totalPrice += costToAdd #Add on the device cost\n",
    "            else: #This is not the first device \n",
    "                totalPrice += costToAdd * 0.9 #Add on the cost with 10% off\n",
    "            order.append(device) #Add to our order list\n",
    "            break #Leave the loop\n",
    "        else: #Not found\n",
    "            print() #blank line\n",
    "            print('Sorry, that is an invalid code.') #Error message\n",
    "            print() #blank line\n",
    "\n",
    "    #SIM Choice\n",
    "    while True: #A while True loop is Python's way of doing REPEAT..UNTIL\n",
    "        for i in range(SIMSTART,SIMEND+1): #Loop through each SIM choice\n",
    "            print(itemCodes[i],descriptions[i],'$'+str(prices[i])) #Prices has to be converted to string to concatenate\n",
    "        sim = input('Enter SIM code: ').upper() #Get the device code (convert to uppercase)\n",
    "\n",
    "        #Now let's loop through the sim item codes again to see if it correct\n",
    "        found = False #we've not found it yet\n",
    "        for i in range(SIMSTART,SIMEND+1):#Go through the sims\n",
    "            if sim == itemCodes[i]: #Check the item code \n",
    "                found = True #Found it!@\n",
    "                costToAdd = prices[i] #Remember the price to add on\n",
    "\n",
    "        #Jump out if found, otherwise go again\n",
    "        if found:\n",
    "            order.append(sim) #Add to our order list\n",
    "            totalPrice += costToAdd #Add on the cost\n",
    "            break #Leave the loop\n",
    "        else: #Not found\n",
    "            print() #blank line\n",
    "            print('Sorry, that is an invalid code.') #Error message\n",
    "            print() #blank line\n",
    "\n",
    "    #Case Choicee\n",
    "    while True: #A while True loop is Python's way of doing REPEAT..UNTIL\n",
    "        for i in range(CASESTART,CASEEND+1): #Loop through each decvice (remmber python counts UP TO the end)\n",
    "            print(itemCodes[i],descriptions[i],'$'+str(prices[i])) #Prices has to be converted to string to concatenate\n",
    "        case = input('Enter case code: ').upper() #Get the device code (convert to uppercase)\n",
    "\n",
    "        #Now let's loop through the case item codes again to see if it correct\n",
    "        found = False #we've not found it yet\n",
    "        for i in range(CASESTART,CASEEND+1):#Go through the cases\n",
    "            if case == itemCodes[i]: #Check the item code \n",
    "                found = True #Found it!@\n",
    "                costToAdd = prices[i] #Remember the price to add on\n",
    "\n",
    "        #Jump out if found, otherwise go again\n",
    "        if found:\n",
    "            order.append(case) #Add to our order list\n",
    "            totalPrice += costToAdd #Add on the cost\n",
    "            break #Leave the loop\n",
    "        else: #Not found\n",
    "            print() #blank line\n",
    "            print('Sorry, that is an invalid code.') #Error message\n",
    "            print() #blank line\n",
    "            \n",
    "    #Charger choice\n",
    "    while True: #A while True loop is Python's way of doing REPEAT..UNTIL\n",
    "        for i in range(CHARGERSTART,CHARGEREND+1): #Loop through each decvice (remmber python counts UP TO the end)\n",
    "            print(itemCodes[i],descriptions[i],'$'+str(prices[i])) #Prices has to be converted to string to concatenate\n",
    "        charger = input('Enter device code (hit ENTER when finished): ').upper() #Get the device code (convert to uppercase)\n",
    "        if charger == '': #They have hit enter\n",
    "            break #so leave the loop\n",
    "        #Now let's loop through the charger item codes again to see if it correct\n",
    "        found = False #we've not found it yet\n",
    "        for i in range(CHARGERSTART,CHARGEREND+1):#Go through the devices\n",
    "            if charger == itemCodes[i]: #Check the item code \n",
    "                found = True #Found it!@\n",
    "                costToAdd = prices[i] #Remember the price to add on\n",
    "\n",
    "        #Now let's loop through the order to make sure it's not already there\n",
    "        alreadyOrdered = False\n",
    "        for code in order: #No need to use indices as we're checking every item\n",
    "            if code == charger: #Found in the order list\n",
    "                alreadyOrdered = True\n",
    "\n",
    "        #Jump out if found, otherwise go again\n",
    "        if found and not alreadyOrdered: #It's valid and not ben chosen yet\n",
    "            order.append(charger) #Add to our order list\n",
    "            totalPrice += costToAdd #Add on the cost\n",
    "            print() #blank line\n",
    "            print('I have added that to your order. Feel free to add another charger if you wish.')\n",
    "            print() #blank line\n",
    "        elif found and alreadyOrdered: #Valid, but already orderd that one\n",
    "            print() #blank line\n",
    "            print('You have already orderd that one. Feel free to add another charger if you wish.')\n",
    "            print() #blank line\n",
    "        else: #Not found\n",
    "            print() #blank line\n",
    "            print('Sorry, that is an invalid code.') #Error message\n",
    "            print() #blank line\n",
    "            \n",
    "    #Copy to the master order\n",
    "    for item in order:\n",
    "        masterOrder.append(item)\n",
    "    #Now the bit that lets us either add more to the order, or leave\n",
    "    again = input(\"Enter 'Y' to place another order. Anything else will quit\").upper()\n",
    "    if again != 'Y': #They've not entered 'Y'\n",
    "        break #leave the loop"
   ]
  },
  {
   "cell_type": "markdown",
   "metadata": {},
   "source": [
    "Now we need to calculate the total cost of the order. This is a case of going through each item in the order, checking it's position in the itemCodes list, and using that to get the order price. we can sneakily complete the final step here as well!\n",
    "\n",
    "*This is the same as the original method, but we go through masterOrder instead.*"
   ]
  },
  {
   "cell_type": "code",
   "execution_count": null,
   "metadata": {},
   "outputs": [],
   "source": [
    "cost = 0 #Start the cost out at nothing\n",
    "for item in masterOrder: #Get each item code\n",
    "    print(item,end=' ') #Output the item codes followed by a space\n",
    "    for i in range(len(itemCodes)): #Go through the item codes\n",
    "        if item == itemCodes[i]: #Found the item\n",
    "            print(descriptions[i]) #Output the description\n",
    "            \n",
    "print('Total cost: ${0:0.2f}'.format(totalPrice)) #Formatted to 2dp (with new total cost)"
   ]
  }
 ],
 "metadata": {
  "kernelspec": {
   "display_name": "Python 3",
   "language": "python",
   "name": "python3"
  },
  "language_info": {
   "codemirror_mode": {
    "name": "ipython",
    "version": 3
   },
   "file_extension": ".py",
   "mimetype": "text/x-python",
   "name": "python",
   "nbconvert_exporter": "python",
   "pygments_lexer": "ipython3",
   "version": "3.7.6"
  }
 },
 "nbformat": 4,
 "nbformat_minor": 4
}
